{
 "cells": [
  {
   "cell_type": "code",
   "execution_count": 1,
   "id": "7fb452c8-2ac0-4fc2-b981-e2600c3a4cf5",
   "metadata": {},
   "outputs": [],
   "source": [
    "import requests\n",
    "from urllib.request import Request, urlopen\n",
    "\n",
    "from bs4 import BeautifulSoup\n",
    "import pandas as pd\n",
    "\n",
    "from tqdm.notebook import tqdm"
   ]
  },
  {
   "cell_type": "code",
   "execution_count": 2,
   "id": "a1273039-aec2-4b73-9ba9-ca5d872cdf44",
   "metadata": {},
   "outputs": [],
   "source": [
    "base_url = \"https://www.ndis.gov.au\""
   ]
  },
  {
   "cell_type": "code",
   "execution_count": 3,
   "id": "63165aec-1f4b-4191-bb62-40123ad9b8e0",
   "metadata": {},
   "outputs": [],
   "source": [
    "# get all links from NDIS webpage\n",
    "try:\n",
    "    sitemap = pd.read_csv('docs/NDIS_sitemap.csv').loc[0].tolist()\n",
    "    \n",
    "except (FileNotFoundError, pd.errors.EmptyDataError):\n",
    "    print('NDIS sitemap could not be found, loading sitemap now...')\n",
    "    \n",
    "    req = Request(base_url + \"/sitemap\", headers={'User-Agent': 'Mozilla/5.0'})\n",
    "    html_page = urlopen(req)\n",
    "\n",
    "    soup = BeautifulSoup(html_page, \"lxml\")\n",
    "\n",
    "    links = []\n",
    "    for link in soup.findAll('a'):\n",
    "        tmp = link.get('href')\n",
    "        try: \n",
    "            if tmp.startswith('/'):\n",
    "                links.append(base_url + tmp)\n",
    "        except AttributeError:\n",
    "            pass\n",
    "\n",
    "    print(links[:10])\n",
    "    pd.DataFrame(links).to_csv('docs/NDIS_sitemap.csv', index = False)"
   ]
  },
  {
   "cell_type": "code",
   "execution_count": 4,
   "id": "c5317e48-9f5a-4fa0-97c6-4c80e8da8d1c",
   "metadata": {},
   "outputs": [],
   "source": [
    "def extract_text_from(url):\n",
    "     html = requests.get(url, headers={'User-Agent': 'Mozilla/5.0'}).text\n",
    "     soup = BeautifulSoup(html, features=\"html.parser\")\n",
    "     text = soup.get_text()\n",
    "\n",
    "     lines = (line.strip() for line in text.splitlines())\n",
    "     return '\\n'.join(line for line in lines if line)"
   ]
  },
  {
   "cell_type": "code",
   "execution_count": 5,
   "id": "38847fe8-71e8-485e-9cef-4ad1fec91e0e",
   "metadata": {},
   "outputs": [
    {
     "data": {
      "text/html": [
       "<div>\n",
       "<style scoped>\n",
       "    .dataframe tbody tr th:only-of-type {\n",
       "        vertical-align: middle;\n",
       "    }\n",
       "\n",
       "    .dataframe tbody tr th {\n",
       "        vertical-align: top;\n",
       "    }\n",
       "\n",
       "    .dataframe thead th {\n",
       "        text-align: right;\n",
       "    }\n",
       "</style>\n",
       "<table border=\"1\" class=\"dataframe\">\n",
       "  <thead>\n",
       "    <tr style=\"text-align: right;\">\n",
       "      <th></th>\n",
       "      <th>text</th>\n",
       "      <th>source</th>\n",
       "    </tr>\n",
       "  </thead>\n",
       "  <tbody>\n",
       "    <tr>\n",
       "      <th>0</th>\n",
       "      <td>National Disability Insurance Scheme (NDIS)\\nS...</td>\n",
       "      <td>https://www.ndis.gov.au/</td>\n",
       "    </tr>\n",
       "    <tr>\n",
       "      <th>1</th>\n",
       "      <td>Languages | NDIS\\nSkip to main content\\nSkip t...</td>\n",
       "      <td>https://www.ndis.gov.au/languages</td>\n",
       "    </tr>\n",
       "    <tr>\n",
       "      <th>2</th>\n",
       "      <td>National Disability Insurance Scheme (NDIS)\\nS...</td>\n",
       "      <td>https://www.ndis.gov.au/</td>\n",
       "    </tr>\n",
       "    <tr>\n",
       "      <th>3</th>\n",
       "      <td>Understanding the NDIS | NDIS\\nSkip to main co...</td>\n",
       "      <td>https://www.ndis.gov.au/understanding</td>\n",
       "    </tr>\n",
       "    <tr>\n",
       "      <th>4</th>\n",
       "      <td>What is the NDIS? | NDIS\\nSkip to main content...</td>\n",
       "      <td>https://www.ndis.gov.au/understanding/what-ndis</td>\n",
       "    </tr>\n",
       "  </tbody>\n",
       "</table>\n",
       "</div>"
      ],
      "text/plain": [
       "                                                text  \\\n",
       "0  National Disability Insurance Scheme (NDIS)\\nS...   \n",
       "1  Languages | NDIS\\nSkip to main content\\nSkip t...   \n",
       "2  National Disability Insurance Scheme (NDIS)\\nS...   \n",
       "3  Understanding the NDIS | NDIS\\nSkip to main co...   \n",
       "4  What is the NDIS? | NDIS\\nSkip to main content...   \n",
       "\n",
       "                                            source  \n",
       "0                         https://www.ndis.gov.au/  \n",
       "1                https://www.ndis.gov.au/languages  \n",
       "2                         https://www.ndis.gov.au/  \n",
       "3            https://www.ndis.gov.au/understanding  \n",
       "4  https://www.ndis.gov.au/understanding/what-ndis  "
      ]
     },
     "execution_count": 5,
     "metadata": {},
     "output_type": "execute_result"
    }
   ],
   "source": [
    "# get raw text from all NDIS pages\n",
    "try:\n",
    "    df = pd.read_csv('docs/NDIS_site_content.csv', index_col = 0)\n",
    "\n",
    "except (FileNotFoundError, pd.errors.EmptyDataError):\n",
    "    print('NDIS site content could not be found, loading pages now...')\n",
    "\n",
    "    pages = []\n",
    "\n",
    "    for link in tqdm(links):\n",
    "        pages.append({'text': extract_text_from(link), 'source': link})\n",
    "\n",
    "    # pages is a list of dictionaries. convert to dataframe and save as csv\n",
    "    pd.DataFrame(pages).to_csv('docs/NDIS_site_content.csv')\n",
    "    \n",
    "df.head()"
   ]
  }
 ],
 "metadata": {
  "kernelspec": {
   "display_name": "Python 3 (ipykernel)",
   "language": "python",
   "name": "python3"
  },
  "language_info": {
   "codemirror_mode": {
    "name": "ipython",
    "version": 3
   },
   "file_extension": ".py",
   "mimetype": "text/x-python",
   "name": "python",
   "nbconvert_exporter": "python",
   "pygments_lexer": "ipython3",
   "version": "3.10.6"
  }
 },
 "nbformat": 4,
 "nbformat_minor": 5
}
